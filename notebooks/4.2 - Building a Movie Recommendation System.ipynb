{
 "cells": [
  {
   "cell_type": "markdown",
   "metadata": {},
   "source": [
    "## 4.2 - Building a Movie Recommendation System"
   ]
  },
  {
   "cell_type": "markdown",
   "metadata": {},
   "source": [
    "#### Get the data"
   ]
  },
  {
   "cell_type": "code",
   "execution_count": null,
   "metadata": {
    "collapsed": true
   },
   "outputs": [],
   "source": [
    "ratings_data = \"../../../data/ml-100k/u.data\"\n",
    "movies_data = \"../../../data/ml-100k/u.item\""
   ]
  },
  {
   "cell_type": "code",
   "execution_count": null,
   "metadata": {
    "collapsed": false
   },
   "outputs": [],
   "source": [
    "from collections import defaultdict\n",
    "\n",
    "user_ratings = defaultdict(dict)\n",
    "movie_ratings = defaultdict(dict)\n",
    "\n",
    "with open(ratings_data, 'r') as f:\n",
    "    for line in f:\n",
    "        user, movie, stars, _ = line.split('\\t')\n",
    "        user_ratings[user][movie] = float(stars)\n",
    "        movie_ratings[movie][user] = float(stars)"
   ]
  },
  {
   "cell_type": "code",
   "execution_count": null,
   "metadata": {
    "collapsed": false
   },
   "outputs": [],
   "source": [
    "len(user_ratings)"
   ]
  },
  {
   "cell_type": "code",
   "execution_count": null,
   "metadata": {
    "collapsed": false
   },
   "outputs": [],
   "source": [
    "len(movie_ratings)"
   ]
  },
  {
   "cell_type": "code",
   "execution_count": null,
   "metadata": {
    "collapsed": false
   },
   "outputs": [],
   "source": [
    "user_ratings[\"1\"]  # userID = 1"
   ]
  },
  {
   "cell_type": "code",
   "execution_count": null,
   "metadata": {
    "collapsed": false
   },
   "outputs": [],
   "source": [
    "movies = {}\n",
    "with open(movies_data, 'r', encoding=\"latin-1\") as f:\n",
    "    for line in f:\n",
    "        movie_id, title, *_ = line.split('|')\n",
    "        movies[movie_id] = title\n",
    "        \n",
    "len(movies)"
   ]
  },
  {
   "cell_type": "code",
   "execution_count": null,
   "metadata": {
    "collapsed": false
   },
   "outputs": [],
   "source": [
    "movies[\"127\"], movies[\"187\"], movies[\"29\"]  # movie ID = 127, 187, 29"
   ]
  },
  {
   "cell_type": "code",
   "execution_count": null,
   "metadata": {
    "collapsed": false
   },
   "outputs": [],
   "source": [
    "movie_ratings[\"127\"]"
   ]
  },
  {
   "cell_type": "code",
   "execution_count": null,
   "metadata": {
    "collapsed": false
   },
   "outputs": [],
   "source": [
    "sum(movie_ratings[\"127\"].values()) / len(movie_ratings[\"127\"])"
   ]
  },
  {
   "cell_type": "code",
   "execution_count": null,
   "metadata": {
    "collapsed": false
   },
   "outputs": [],
   "source": [
    "import pandas as pd\n",
    "import numpy as np\n",
    "\n",
    "ratings = pd.read_csv(ratings_data, sep='\\t', names=['user', 'movie', 'rating', 'timestamp'])\n",
    "\n",
    "ratings.head()"
   ]
  },
  {
   "cell_type": "code",
   "execution_count": null,
   "metadata": {
    "collapsed": false
   },
   "outputs": [],
   "source": [
    "ratings.shape"
   ]
  },
  {
   "cell_type": "code",
   "execution_count": null,
   "metadata": {
    "collapsed": false
   },
   "outputs": [],
   "source": [
    "n_movies = ratings[\"movie\"].unique().shape\n",
    "n_movies"
   ]
  },
  {
   "cell_type": "code",
   "execution_count": null,
   "metadata": {
    "collapsed": false
   },
   "outputs": [],
   "source": [
    "n_users = ratings[\"user\"].unique().shape\n",
    "n_users"
   ]
  },
  {
   "cell_type": "code",
   "execution_count": null,
   "metadata": {
    "collapsed": false
   },
   "outputs": [],
   "source": [
    "data_matrix = np.zeros((ratings.user.max(), ratings.movie.max()))"
   ]
  },
  {
   "cell_type": "code",
   "execution_count": null,
   "metadata": {
    "collapsed": false
   },
   "outputs": [],
   "source": [
    "for item in ratings.itertuples():\n",
    "    data_matrix[item.user-1, item.movie-1] = item.rating"
   ]
  },
  {
   "cell_type": "code",
   "execution_count": null,
   "metadata": {
    "collapsed": false
   },
   "outputs": [],
   "source": [
    "data_matrix"
   ]
  },
  {
   "cell_type": "code",
   "execution_count": null,
   "metadata": {
    "collapsed": false
   },
   "outputs": [],
   "source": [
    "data_matrix.shape"
   ]
  },
  {
   "cell_type": "markdown",
   "metadata": {},
   "source": [
    "#### Distance / Similarity\n",
    "\n",
    "https://en.wikipedia.org/wiki/Euclidean_distance\n",
    "\n",
    "$\\mbox{euclidean}(x, y) = \\big{|}\\big{|} x - y \\big{|}\\big{|}_{2} = \\sqrt{\\sum_{i=0}^{n} (x_{i} - y_{i})^{2}}$\n",
    "\n",
    "https://en.wikipedia.org/wiki/Cosine_similarity\n",
    "\n",
    "$\\mbox{cosine}(x, y) = 1 - \\frac{x \\cdot y}{|| x ||_{2} || y ||_{2}}$, i.e. one minus cosine similarity"
   ]
  },
  {
   "cell_type": "code",
   "execution_count": null,
   "metadata": {
    "collapsed": false
   },
   "outputs": [],
   "source": [
    "from scipy.spatial.distance import cosine\n",
    "\n",
    "cosine(data_matrix[:, 126], data_matrix[:, 186])  # Godfather vs Godfather II"
   ]
  },
  {
   "cell_type": "code",
   "execution_count": null,
   "metadata": {
    "collapsed": false
   },
   "outputs": [],
   "source": [
    "cosine(data_matrix[:, 126], data_matrix[:, 28])  # Godfather vs Batman Forever"
   ]
  },
  {
   "cell_type": "code",
   "execution_count": null,
   "metadata": {
    "collapsed": false
   },
   "outputs": [],
   "source": [
    "cosine(data_matrix[0, :], data_matrix[2, :])  # user 1 vs user 3"
   ]
  },
  {
   "cell_type": "code",
   "execution_count": null,
   "metadata": {
    "collapsed": false
   },
   "outputs": [],
   "source": [
    "cosine(data_matrix[0, :], data_matrix[915, :])  # user 1 vs user 916"
   ]
  },
  {
   "cell_type": "code",
   "execution_count": null,
   "metadata": {
    "collapsed": false
   },
   "outputs": [],
   "source": [
    "from sklearn.model_selection import train_test_split\n",
    "\n",
    "train_data, test_data = train_test_split(data_matrix, test_size=0.2)"
   ]
  },
  {
   "cell_type": "code",
   "execution_count": null,
   "metadata": {
    "collapsed": false
   },
   "outputs": [],
   "source": [
    "train_data.shape, test_data.shape"
   ]
  },
  {
   "cell_type": "code",
   "execution_count": null,
   "metadata": {
    "collapsed": true
   },
   "outputs": [],
   "source": [
    "from sklearn.metrics.pairwise import pairwise_distances\n",
    "\n",
    "user_distance = pairwise_distances(train_data, metric='cosine')\n",
    "item_distance = pairwise_distances(train_data.T, metric='cosine')"
   ]
  },
  {
   "cell_type": "code",
   "execution_count": null,
   "metadata": {
    "collapsed": false
   },
   "outputs": [],
   "source": [
    "user_distance"
   ]
  },
  {
   "cell_type": "code",
   "execution_count": null,
   "metadata": {
    "collapsed": false
   },
   "outputs": [],
   "source": [
    "user_similarity = 1 - user_distance\n",
    "item_similarity = 1 - item_distance"
   ]
  },
  {
   "cell_type": "code",
   "execution_count": null,
   "metadata": {
    "collapsed": false
   },
   "outputs": [],
   "source": [
    "user_similarity.shape, item_similarity.shape"
   ]
  },
  {
   "cell_type": "code",
   "execution_count": null,
   "metadata": {
    "collapsed": false
   },
   "outputs": [],
   "source": [
    "train_data.shape"
   ]
  },
  {
   "cell_type": "markdown",
   "metadata": {},
   "source": [
    "#### Prediction\n",
    "\n",
    "$r_{u,i}$ = rating user u gave to item i\n",
    "\n",
    "$\\hat{r}_{u,i}$ = rating prediction for user u and item i\n",
    "\n",
    "$\\mbox{sim}(u, v)$ = similarity between user u and user v\n",
    "\n",
    "$\\hat{r}_{u,i} = \\frac{\\sum_{v} \\mbox{sim}(u, v)r_{v,i}}{\\sum_{v} \\big{|}\\mbox{sim}(u, v)\\big{|}}$"
   ]
  },
  {
   "cell_type": "code",
   "execution_count": null,
   "metadata": {
    "collapsed": false
   },
   "outputs": [],
   "source": [
    "def make_user_prediction(data, u_similarity):\n",
    "    return u_similarity.dot(data) / np.array([np.abs(u_similarity).sum(axis=1)]).T\n",
    "\n",
    "def make_item_prediction(data, i_similarity):\n",
    "    return data.dot(i_similarity) / np.array([np.abs(i_similarity).sum(axis=1)])\n",
    "\n",
    "user_pred = make_user_prediction(train_data, user_similarity)\n",
    "item_pred = make_item_prediction(train_data, item_similarity)"
   ]
  },
  {
   "cell_type": "code",
   "execution_count": null,
   "metadata": {
    "collapsed": false
   },
   "outputs": [],
   "source": [
    "user_pred.shape"
   ]
  },
  {
   "cell_type": "code",
   "execution_count": null,
   "metadata": {
    "collapsed": false
   },
   "outputs": [],
   "source": [
    "item_pred.shape"
   ]
  },
  {
   "cell_type": "code",
   "execution_count": null,
   "metadata": {
    "collapsed": false
   },
   "outputs": [],
   "source": [
    "from sklearn.metrics import mean_squared_error\n",
    "\n",
    "def matrix_mse(prediction, actual):\n",
    "    prediction = prediction[actual.nonzero()].flatten()  # ignore zero terms\n",
    "    actual = actual[actual.nonzero()].flatten()\n",
    "    return mean_squared_error(prediction, actual)\n",
    "\n",
    "matrix_mse(user_pred, train_data)"
   ]
  },
  {
   "cell_type": "code",
   "execution_count": null,
   "metadata": {
    "collapsed": false
   },
   "outputs": [],
   "source": [
    "matrix_mse(item_pred, train_data)"
   ]
  },
  {
   "cell_type": "code",
   "execution_count": null,
   "metadata": {
    "collapsed": true
   },
   "outputs": [],
   "source": []
  }
 ],
 "metadata": {
  "kernelspec": {
   "display_name": "Python 3",
   "language": "python",
   "name": "python3"
  },
  "language_info": {
   "codemirror_mode": {
    "name": "ipython",
    "version": 3
   },
   "file_extension": ".py",
   "mimetype": "text/x-python",
   "name": "python",
   "nbconvert_exporter": "python",
   "pygments_lexer": "ipython3",
   "version": "3.6.0"
  }
 },
 "nbformat": 4,
 "nbformat_minor": 2
}
